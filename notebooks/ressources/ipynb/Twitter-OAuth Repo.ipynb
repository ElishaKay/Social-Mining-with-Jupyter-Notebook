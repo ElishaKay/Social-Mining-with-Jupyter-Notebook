{
 "cells": [
  {
   "cell_type": "code",
   "execution_count": 1,
   "metadata": {},
   "outputs": [
    {
     "ename": "ImportError",
     "evalue": "No module named twitter",
     "output_type": "error",
     "traceback": [
      "\u001b[0;31m\u001b[0m",
      "\u001b[0;31mImportError\u001b[0mTraceback (most recent call last)",
      "\u001b[0;32m<ipython-input-1-0f0cfdd53b7e>\u001b[0m in \u001b[0;36m<module>\u001b[0;34m()\u001b[0m\n\u001b[1;32m      4\u001b[0m \u001b[0;31m#you have to setup python-twitter to use this script\u001b[0m\u001b[0;34m\u001b[0m\u001b[0;34m\u001b[0m\u001b[0m\n\u001b[1;32m      5\u001b[0m \u001b[0;31m#http://digitaldesaster.tumblr.com/post/55950443344/how-to-use-the-twitter-api-in-python-setup\u001b[0m\u001b[0;34m\u001b[0m\u001b[0;34m\u001b[0m\u001b[0m\n\u001b[0;32m----> 6\u001b[0;31m \u001b[0;32mfrom\u001b[0m \u001b[0mtwitter\u001b[0m \u001b[0;32mimport\u001b[0m \u001b[0;34m*\u001b[0m\u001b[0;34m\u001b[0m\u001b[0m\n\u001b[0m\u001b[1;32m      7\u001b[0m \u001b[0;34m\u001b[0m\u001b[0m\n\u001b[1;32m      8\u001b[0m \u001b[0;31m#you have to setup an twitter developer account to get your api keys\u001b[0m\u001b[0;34m\u001b[0m\u001b[0;34m\u001b[0m\u001b[0m\n",
      "\u001b[0;31mImportError\u001b[0m: No module named twitter"
     ]
    }
   ],
   "source": [
    "#! /usr/bin/env python\n",
    "# -*- coding: utf-8 -*-\n",
    "\n",
    "#you have to setup python-twitter to use this script\n",
    "#http://digitaldesaster.tumblr.com/post/55950443344/how-to-use-the-twitter-api-in-python-setup\n",
    "from twitter import *\n",
    " \n",
    "#you have to setup an twitter developer account to get your api keys\n",
    "#https://dev.twitter.com/apps\n",
    "consumer_key='IlsGJxtQuYE9moHNGBwgbvuG7'\n",
    "consumer_secret='bNSDW0x8QXw0QPHwJEAKhbhyqxWDlZOqdGh4JUY6Z6ftCzL9Nk'\n",
    "access_token='864787814138949632-GcHCAZ1pfbY2irVKbDfqcoRno3InFpf'\n",
    "access_token_secret='zp0OoZZFRw2TNlHeLkaC8TKGwNK9TjC1iT19zYYKUxBl1'\n",
    "\n",
    "#connect to the twitter api\n",
    "t= Twitter(auth=OAuth(access_token, access_token_secret,consumer_key,consumer_secret))\n",
    "\n",
    "#define array of urls\n",
    "urls=[]\n",
    "\n",
    "#Fetch the last 50 favorites of the specified username\n",
    "tweet_list=t.favorites.list(screen_name=\"your_username\", count=50)\n",
    "\n",
    "#loop through the list of tweets\n",
    "for tweet in tweet_list:\n",
    "\ttry:\n",
    "\t\t\n",
    "\t\t#get the expanded_url\n",
    "\t\turl=tweet['entities']['urls'][0]['expanded_url']\n",
    "\t\t\n",
    "\t\t#this is the short_url\n",
    "\t\t#tweet['entities']['urls'][0]['url']\n",
    "\t\t\n",
    "\t\t#this is the text of the tweet\n",
    "\t\t#tweet_text=tweet['text']\n",
    "\t\t\n",
    "\t\t#add url to array of urls\n",
    "\t\turls.append(url)\n",
    "\t\t\n",
    "\t\tprint 'added url: '+ url + 'to array'\n",
    "\t\t\n",
    "\texcept Exception, e:\n",
    "\t\tprint 'no url in tweet'\n",
    "\t\t#print e\n",
    "\t\t\n",
    "print urls"
   ]
  },
  {
   "cell_type": "code",
   "execution_count": null,
   "metadata": {
    "collapsed": true
   },
   "outputs": [],
   "source": []
  }
 ],
 "metadata": {
  "kernelspec": {
   "display_name": "Python 2",
   "language": "python",
   "name": "python2"
  },
  "language_info": {
   "codemirror_mode": {
    "name": "ipython",
    "version": 2
   },
   "file_extension": ".py",
   "mimetype": "text/x-python",
   "name": "python",
   "nbconvert_exporter": "python",
   "pygments_lexer": "ipython2",
   "version": "2.7.14"
  }
 },
 "nbformat": 4,
 "nbformat_minor": 2
}
